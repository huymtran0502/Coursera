{
 "cells": [
  {
   "cell_type": "code",
   "execution_count": 2,
   "id": "f785c4c9-c4a4-4738-a64a-04a25bd0cd52",
   "metadata": {},
   "outputs": [
    {
     "name": "stdout",
     "output_type": "stream",
     "text": [
      "Original Data: (1168, 81)\n",
      "After Cleaning: (1168, 73)\n"
     ]
    }
   ],
   "source": [
    "import os\n",
    "import pandas as pd\n",
    "\n",
    "# writes the output on 'cleaned_data.csv' by default\n",
    "def clean_data(df, output_file='cleaned_data.csv'):\n",
    "    \n",
    "    # Removes columns with missing values issues\n",
    "    cols_to_be_removed = ['Id', 'PoolQC', 'MiscFeature', 'Alley', 'Fence', 'LotFrontage', 'GarageYrBlt', 'MasVnrArea']\n",
    "    df.drop(columns=cols_to_be_removed, inplace=True)\n",
    "\n",
    "    # Transforms ordinal columns to numerical\n",
    "    ordinal_cols = ['FireplaceQu', 'ExterQual', 'ExterCond', 'BsmtQual', 'BsmtCond', 'HeatingQC', 'KitchenQual', 'GarageQual', 'GarageCond']\n",
    "    for col in ordinal_cols:\n",
    "        df[col].fillna(0, inplace=True)\n",
    "        df[col].replace({'Po': 1, 'Fa': 2, 'TA': 3, 'Gd': 4, 'Ex': 5}, inplace=True)\n",
    "\n",
    "    # Replace the NaN with NA\n",
    "    for c in ['GarageType', 'GarageFinish', 'BsmtFinType2', 'BsmtExposure', 'BsmtFinType1']:\n",
    "        df[c].fillna('NA', inplace=True)\n",
    "\n",
    "    # Replace the NaN with None\n",
    "    df['MasVnrType'].fillna('None', inplace=True)\n",
    "    # Imputes with most frequent value\n",
    "    df['Electrical'].fillna('SBrkr', inplace=True)\n",
    "    # Saves a copy\n",
    "    cleaned_data = os.path.join(output_file)\n",
    "    df.to_csv(cleaned_data)\n",
    "    \n",
    "    return df\n",
    "\n",
    "if __name__ == \"__main__\":\n",
    "    # Reads the file train.csv\n",
    "    train_file = os.path.join('train.csv')\n",
    "    if os.path.exists(train_file):\n",
    "        df = pd.read_csv(train_file)\n",
    "        print(f'Original Data: {df.shape}')\n",
    "        cleaned_df = clean_data(df)\n",
    "        print(f'After Cleaning: {cleaned_df.shape}')\n",
    "    else:\n",
    "        print(f'File not found {train_file}')"
   ]
  }
 ],
 "metadata": {
  "kernelspec": {
   "display_name": "Python 3 (ipykernel)",
   "language": "python",
   "name": "python3"
  },
  "language_info": {
   "codemirror_mode": {
    "name": "ipython",
    "version": 3
   },
   "file_extension": ".py",
   "mimetype": "text/x-python",
   "name": "python",
   "nbconvert_exporter": "python",
   "pygments_lexer": "ipython3",
   "version": "3.11.5"
  }
 },
 "nbformat": 4,
 "nbformat_minor": 5
}
