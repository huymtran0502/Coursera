{
 "cells": [
  {
   "cell_type": "code",
   "execution_count": null,
   "id": "09decd3f-1e8e-4ccb-b0e1-b791e91d6abf",
   "metadata": {},
   "outputs": [],
   "source": [
    "import requests\n",
    "from predict import HousePriceModel\n",
    "\n",
    "\n",
    "sample_input = {'MSSubClass': 20, 'MSZoning': 'RL', \n",
    "'LotArea': 7922, 'Street': 'Pave', \n",
    "'LotShape': 'Reg', 'LandContour': 'Lvl', \n",
    "'Utilities': 'AllPub', 'LotConfig': 'Inside', \n",
    "'LandSlope': 'Gtl', 'Neighborhood': 'NAmes', \n",
    "'Condition1': 'Norm', 'Condition2': 'Norm', \n",
    "'BldgType': '1Fam', 'HouseStyle': '1Story', \n",
    "'OverallQual': 5, 'OverallCond': 7, \n",
    "'YearBuilt': 1953, 'YearRemodAdd': 2007, \n",
    "'RoofStyle': 'Gable', 'RoofMatl': 'CompShg', \n",
    "'Exterior1st': 'VinylSd', 'Exterior2nd': 'VinylSd', \n",
    "'MasVnrType': 'None', 'ExterQual': 3,\n",
    "'ExterCond': 4, 'Foundation': 'CBlock', \n",
    "'BsmtQual': 3, 'BsmtCond': 3, \n",
    "'BsmtExposure': 'No', 'BsmtFinType1': 'GLQ', \n",
    "'BsmtFinSF1': 731, 'BsmtFinType2': 'Unf', \n",
    "'BsmtFinSF2': 0, 'BsmtUnfSF': 326, \n",
    "'TotalBsmtSF': 1057, 'Heating': 'GasA', \n",
    "'HeatingQC': 3, 'CentralAir': 'Y', \n",
    "'Electrical': 'SBrkr', '1stFlrSF': 1057, \n",
    "'2ndFlrSF': 0, 'LowQualFinSF': 0, \n",
    "'GrLivArea': 1057, 'BsmtFullBath': 1, \n",
    "'BsmtHalfBath': 0, 'FullBath': 1, \n",
    "'HalfBath': 0, 'BedroomAbvGr': 3, \n",
    "'KitchenAbvGr': 1, 'KitchenQual': 4, \n",
    "'TotRmsAbvGrd': 5, 'Functional': 'Typ', \n",
    "'Fireplaces': 0, 'FireplaceQu': 0, \n",
    "'GarageType': 'Detchd', 'GarageFinish': 'Unf',\n",
    "'GarageCars': 1, 'GarageArea': 246, \n",
    "'GarageQual': 3, 'GarageCond': 3, \n",
    "'PavedDrive': 'Y', 'WoodDeckSF': 0, \n",
    "'OpenPorchSF': 52, 'EnclosedPorch': 0, \n",
    "'3SsnPorch': 0, 'ScreenPorch': 0, \n",
    "'PoolArea': 0, 'MiscVal': 0, 'MoSold': 1,\n",
    "'YrSold': 2010, 'SaleType': 'WD', \n",
    "'SaleCondition': 'Abnorml'}\n",
    "\n",
    "def run_prediction_from_sample():\n",
    "\n",
    "    url=\"http://127.0.0.1:8000/predict\"\n",
    "    headers = {\"Content-Type\": \"application/json\", \"Accept\":\"text/plain\"}\n",
    "\n",
    "    response = requests.post(url, headers=headers, json=sample_input)\n",
    "    print(\"The actual Sale Price: 109000\")\n",
    "    print(f\"The predicted Sale Price: {response.text}\")\n",
    "\n",
    "\n",
    "if __name__ == \"__main__\":\n",
    "    run_prediction_from_sample()"
   ]
  }
 ],
 "metadata": {
  "kernelspec": {
   "display_name": "Python 3 (ipykernel)",
   "language": "python",
   "name": "python3"
  },
  "language_info": {
   "codemirror_mode": {
    "name": "ipython",
    "version": 3
   },
   "file_extension": ".py",
   "mimetype": "text/x-python",
   "name": "python",
   "nbconvert_exporter": "python",
   "pygments_lexer": "ipython3",
   "version": "3.11.5"
  }
 },
 "nbformat": 4,
 "nbformat_minor": 5
}
