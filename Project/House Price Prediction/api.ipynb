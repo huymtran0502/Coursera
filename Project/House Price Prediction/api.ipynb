{
 "cells": [
  {
   "cell_type": "code",
   "execution_count": null,
   "id": "905016ca-598e-44b5-8fa8-326d6c90cfdd",
   "metadata": {},
   "outputs": [],
   "source": [
    "from fastapi import FastAPI\n",
    "from datetime import datetime\n",
    "from predict import HousePriceModel\n",
    "\n",
    "app = FastAPI()\n",
    "\n",
    "@app.get(\"/\")\n",
    "def root():\n",
    "    return {\"status\": \"online\"}\n",
    "\n",
    "@app.post(\"/predict\")\n",
    "def predict(inputs: dict):\n",
    "\n",
    "    model = HousePriceModel()\n",
    "\n",
    "    start = datetime.today()\n",
    "    pred = model.predict(inputs)[0]\n",
    "    dur = (datetime.today() - start).total_seconds()\n",
    "\n",
    "    return pred"
   ]
  }
 ],
 "metadata": {
  "kernelspec": {
   "display_name": "Python 3 (ipykernel)",
   "language": "python",
   "name": "python3"
  },
  "language_info": {
   "codemirror_mode": {
    "name": "ipython",
    "version": 3
   },
   "file_extension": ".py",
   "mimetype": "text/x-python",
   "name": "python",
   "nbconvert_exporter": "python",
   "pygments_lexer": "ipython3",
   "version": "3.11.5"
  }
 },
 "nbformat": 4,
 "nbformat_minor": 5
}
