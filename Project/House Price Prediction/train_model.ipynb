{
 "cells": [
  {
   "cell_type": "code",
   "execution_count": 5,
   "id": "4977465f-802b-49dd-ae30-7c585cf21e00",
   "metadata": {},
   "outputs": [
    {
     "name": "stdout",
     "output_type": "stream",
     "text": [
      "Train data for modeling: (934, 73)\n",
      "Test data for predictions: (234, 73)\n",
      "Training the model ...\n",
      "Testing the model ...\n",
      "Average Price Test: 175652.0128205128\n",
      "RMSE: 11097.118358566046\n",
      "Model saved at model.pkl\n"
     ]
    }
   ],
   "source": [
    "import numpy as np\n",
    "import pandas as pd\n",
    "from sklearn.preprocessing import OneHotEncoder\n",
    "from sklearn.metrics import mean_squared_error\n",
    "from sklearn.linear_model import LinearRegression\n",
    "from sklearn.pipeline import Pipeline\n",
    "import pickle\n",
    "\n",
    "def create_train_test_data(dataset):\n",
    "    # load and split the data\n",
    "    data_train = dataset.sample(frac=0.8, \\\n",
    "    random_state=30).reset_index(drop=True)\n",
    "    data_test = dataset.drop(data_train.index).reset_index(drop=True)\n",
    "    # save the data\n",
    "    data_train.to_csv('train.csv', index=False)\n",
    "    data_test.to_csv('test.csv', index=False)\n",
    "    print(f\"Train data for modeling: {data_train.shape}\")\n",
    "    print(f\"Test data for predictions: {data_test.shape}\")\n",
    "    \n",
    "def train_model(x_train, y_train):\n",
    "    print(\"Training the model ...\")\n",
    "    \n",
    "    model = Pipeline(steps=[(\"label encoding\", OneHotEncoder(handle_unknown='ignore')), (\"tree model\", LinearRegression())])\n",
    "    model.fit(x_train, y_train)\n",
    "\n",
    "    return model\n",
    "\n",
    "def accuracy(model, x_test, y_test):\n",
    "    print(\"Testing the model ...\")\n",
    "    predictions = model.predict(x_test)\n",
    "    tree_mse = mean_squared_error(y_test, predictions)\n",
    "    tree_rmse = np.sqrt(tree_mse)\n",
    "    return tree_rmse\n",
    "\n",
    "def export_model(model):\n",
    "    # Save the model\n",
    "    pkl_path = 'model.pkl'\n",
    "    with open(pkl_path, 'wb') as file:\n",
    "        pickle.dump(model, file)\n",
    "        print(f\"Model saved at {pkl_path}\")\n",
    "\n",
    "def main():\n",
    "    # Load the whole data\n",
    "    data = pd.read_csv('cleaned_data.csv', keep_default_na=False, index_col=0)\n",
    "    # Split train/test\n",
    "    # Creates train.csv and test.csv\n",
    "    create_train_test_data(data)\n",
    "    # Loads the data for the model training\n",
    "    train = pd.read_csv('train.csv', keep_default_na=False)\n",
    "    x_train = train.drop(columns=['SalePrice'])\n",
    "    y_train = train['SalePrice']\n",
    "    # Loads the data for the model testing\n",
    "    test = pd.read_csv('test.csv', keep_default_na=False)\n",
    "    x_test = test.drop(columns=['SalePrice'])\n",
    "    y_test = test['SalePrice']\n",
    "    # Train and Test\n",
    "    model = train_model(x_train, y_train)\n",
    "    rmse_test = accuracy(model, x_test, y_test)\n",
    "    \n",
    "    print(f\"Average Price Test: {y_test.mean()}\")\n",
    "    print(f\"RMSE: {rmse_test}\")\n",
    "    \n",
    "    # Save the model\n",
    "    export_model(model)\n",
    "    \n",
    "if __name__ == '__main__':\n",
    "    main()"
   ]
  },
  {
   "cell_type": "markdown",
   "id": "78107c7f-59be-45c5-a152-cb62c79445df",
   "metadata": {},
   "source": [
    "The model utilized 934 data points for training and 234 data points for testing. In the test set, the average sale price was $175,000. The root-mean-square error (RMSE) is a suitable metric for understanding the model's output because it can be interpreted on the same scale as the dependent variable, which in this case is the sale price. With an RMSE of 10,552, it means that, on average, the model's predictions missed the correct sale prices by a little over $10,000. Considering the average sale price of $175,000, this level of deviation is not significant.\r\n",
    "\r\n",
    "\r\n",
    "The RMSE is a widely used measure in machine learning and statistics to assess the accuracy of a predictive model. It provides a straightforward interpretation of the overall error of the model, making it accessible even to individuals without a strong statistical background. However, it's important to note that the RMSE is not the only metric used for model evaluation. Depending on the specific problem and context, other metrics such as mean absolute error (MAE), R-squared, or precision and recall may also be relevant.\r\n",
    "\r\n",
    "\r\n",
    "Overall, the model's performance, as indicated by the RMSE, suggests that it is reasonably accurate in predicting sale prices, with an average deviation of around $10,000 from the actual prices."
   ]
  }
 ],
 "metadata": {
  "kernelspec": {
   "display_name": "Python 3 (ipykernel)",
   "language": "python",
   "name": "python3"
  },
  "language_info": {
   "codemirror_mode": {
    "name": "ipython",
    "version": 3
   },
   "file_extension": ".py",
   "mimetype": "text/x-python",
   "name": "python",
   "nbconvert_exporter": "python",
   "pygments_lexer": "ipython3",
   "version": "3.11.5"
  }
 },
 "nbformat": 4,
 "nbformat_minor": 5
}
