{
 "cells": [
  {
   "cell_type": "code",
   "execution_count": 25,
   "id": "a903b4a2-94e8-4d54-a30e-e27b2de6368e",
   "metadata": {},
   "outputs": [],
   "source": [
    "import pickle\n",
    "import pandas as pd\n",
    "\n",
    "\n",
    "class HousePriceModel():\n",
    "\n",
    "    def __init__(self):\n",
    "        self.model = self.load_model()\n",
    "        self.preds = None\n",
    "\n",
    "    def load_model(self):\n",
    "        pkl_filename = 'model.pkl'\n",
    "\n",
    "        try:\n",
    "            with open(pkl_filename, 'rb') as file:\n",
    "                pickle_model = pickle.load(file)\n",
    "        except:\n",
    "            print(f'Error loading the model at {pkl_filename}')\n",
    "            return None\n",
    "\n",
    "        return pickle_model\n",
    "\n",
    "    def predict(self, data):\n",
    "\n",
    "        if not isinstance(data, pd.DataFrame):\n",
    "            data = pd.DataFrame(data, index=[0])\n",
    "\n",
    "        self.preds = self.model.predict(data)\n",
    "        return self.preds"
   ]
  },
  {
   "cell_type": "code",
   "execution_count": null,
   "id": "fee2fd2c-fdfc-4369-84b1-0b643d222479",
   "metadata": {},
   "outputs": [],
   "source": [
    "!uvicorn api:app --reload"
   ]
  }
 ],
 "metadata": {
  "kernelspec": {
   "display_name": "Python 3 (ipykernel)",
   "language": "python",
   "name": "python3"
  },
  "language_info": {
   "codemirror_mode": {
    "name": "ipython",
    "version": 3
   },
   "file_extension": ".py",
   "mimetype": "text/x-python",
   "name": "python",
   "nbconvert_exporter": "python",
   "pygments_lexer": "ipython3",
   "version": "3.11.5"
  }
 },
 "nbformat": 4,
 "nbformat_minor": 5
}
